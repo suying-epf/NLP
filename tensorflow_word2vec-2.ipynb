{
  "cells": [
    {
      "cell_type": "code",
      "execution_count": 1,
      "metadata": {
        "id": "luA6ukkovBY4"
      },
      "outputs": [],
      "source": [
        "%%capture\n",
        "!pip install --upgrade pip\n",
        "!pip install tensorflow numpy==1.16 sklearn matplotlib"
      ]
    },
    {
      "cell_type": "code",
      "execution_count": 2,
      "metadata": {
        "id": "65gUmF3xvBY8",
        "colab": {
          "base_uri": "https://localhost:8080/"
        },
        "outputId": "bf606c78-8b0c-47a3-bb52-b04116fd318b"
      },
      "outputs": [
        {
          "output_type": "stream",
          "name": "stderr",
          "text": [
            "WARNING:tensorflow:From /usr/local/lib/python3.10/dist-packages/tensorflow/python/compat/v2_compat.py:107: disable_resource_variables (from tensorflow.python.ops.variable_scope) is deprecated and will be removed in a future version.\n",
            "Instructions for updating:\n",
            "non-resource variables are not supported in the long term\n"
          ]
        }
      ],
      "source": [
        "import tensorflow.compat.v1 as tf\n",
        "tf.disable_v2_behavior()\n",
        "import numpy as np"
      ]
    },
    {
      "cell_type": "code",
      "execution_count": 3,
      "metadata": {
        "id": "MTdG8yK4vBY8"
      },
      "outputs": [],
      "source": [
        "corpus_raw = 'He is the king . The king is royal . She is the royal queen '\n",
        "corpus_raw = corpus_raw.lower()"
      ]
    },
    {
      "cell_type": "code",
      "execution_count": 4,
      "metadata": {
        "id": "Xufh3-UCvBY9"
      },
      "outputs": [],
      "source": [
        "\n",
        "words = []\n",
        "words = corpus_raw.split()\n",
        "# parse through the corpus and remove the dots\n",
        "words = [word.strip('。') for word in words]\n",
        "\n",
        "\n",
        "# Convert words into integers and vice versa\n",
        "word2int = {}\n",
        "int2word = {}\n",
        "vocab_size = len(words)\n",
        "\n",
        "for i, word in enumerate(words):\n",
        "    # TODO 1: Fill in the logic for word2int and int2word mappings\n",
        "    # for example: word_to_int has words as keys and integers as value\n",
        "     if word not in word2int:\n",
        "        # Assign a unique integer to each word\n",
        "        word2int[word] = i\n",
        "        int2word[i] = word"
      ]
    },
    {
      "cell_type": "code",
      "execution_count": 5,
      "metadata": {
        "id": "eZTAULahvBY9"
      },
      "outputs": [],
      "source": [
        "# raw sentences is a list of sentences.\n",
        "raw_sentences = corpus_raw.split('.')\n",
        "sentences = []\n",
        "for sentence in raw_sentences:\n",
        "    sentences.append(sentence.split())"
      ]
    },
    {
      "cell_type": "code",
      "execution_count": 6,
      "metadata": {
        "id": "XY4PX568vBY9"
      },
      "outputs": [],
      "source": [
        "WINDOW_SIZE = 2\n",
        "data = []\n",
        "for sentence in sentences:\n",
        "    for word_index, word in enumerate(sentence):\n",
        "        for nb_word in sentence[max(word_index - WINDOW_SIZE, 0) : min(word_index + WINDOW_SIZE, len(sentence)) + 1] :\n",
        "            if nb_word != word:\n",
        "                data.append([word, nb_word])"
      ]
    },
    {
      "cell_type": "markdown",
      "metadata": {
        "id": "7NS7EQu0vBY-"
      },
      "source": [
        "### ***What does the previous cell do ?***\n",
        "* ***Your** thoughts here*\n",
        "This code block processes the raw text data, labels it as sentences and words, and then creates word pairs where one word is the target word and the other is the context word"
      ]
    },
    {
      "cell_type": "code",
      "execution_count": 7,
      "metadata": {
        "id": "V9zXWazcvBY_"
      },
      "outputs": [],
      "source": [
        "\n",
        "def to_one_hot(data_point_index, vocab_size):\n",
        "    # TODO 2: Implement the one-hot encoding function here.\n",
        "    # initialize a list of zeros equal to vocab_size\n",
        "    # turn this list into a one hot vector for the data_point_index\n",
        "    one_hot_vector = [0] * vocab_size\n",
        "    one_hot_vector[data_point_index] = 1\n",
        "\n",
        "    return one_hot_vector"
      ]
    },
    {
      "cell_type": "code",
      "execution_count": 8,
      "metadata": {
        "id": "crpHCBdSvBY_"
      },
      "outputs": [],
      "source": [
        "\n",
        "x_train = [] # input words\n",
        "y_train = [] # output words\n",
        "\n",
        "for data_word in data:\n",
        "    # TODO 3: Append appropriate one-hot encoded vectors to x_train and y_train\n",
        "    target_word, context_word = data_word[0], data_word[1]\n",
        "    x_train.append(to_one_hot(word2int[context_word], vocab_size))\n",
        "    y_train.append(to_one_hot(word2int[target_word], vocab_size))"
      ]
    },
    {
      "cell_type": "code",
      "execution_count": 9,
      "metadata": {
        "id": "RQ0L9KpgvBZA"
      },
      "outputs": [],
      "source": [
        "\n",
        "# Convert lists to numpy arrays\n",
        "x_train = np.asarray(x_train)\n",
        "y_train = np.asarray(y_train)\n",
        "\n",
        "x = tf.placeholder(tf.float32, shape=(None, vocab_size))\n",
        "y_label = tf.placeholder(tf.float32, shape=(None, vocab_size))"
      ]
    },
    {
      "cell_type": "markdown",
      "metadata": {
        "id": "3fs6YmH4vBZA"
      },
      "source": [
        "### ***What does the previous cell do ?***\n",
        "* ***Your** thoughts here*\n",
        "This code prepares training data by converting word pairs into solo thermal encoding vectors, making it suitable for training a word-skipping word embedding model. The model learns to predict context words from the target word and is typically used to generate word embeddings that capture semantic relationships between words."
      ]
    },
    {
      "cell_type": "code",
      "execution_count": 10,
      "metadata": {
        "id": "qljhdfwgvBZA"
      },
      "outputs": [],
      "source": [
        "\n",
        "EMBEDDING_DIM = 5\n",
        "\n",
        "# TODO 5: Initialize weight matrices W1 and W2 with random values, and biases b1 and b2.\n",
        "# Use tf.Variable and tf.random_normal with the appropriate shapes to initialize layers and biases\n",
        "# look at the slides if you don't remember the layer shapes\n",
        "\n",
        "W1 = tf.Variable(tf.random_normal([vocab_size, EMBEDDING_DIM], stddev=0.01))\n",
        "b1 = tf.Variable(tf.zeros([EMBEDDING_DIM]))\n",
        "W2 = tf.Variable(tf.random_normal([EMBEDDING_DIM, vocab_size], stddev=0.01))\n",
        "b2 = tf.Variable(tf.zeros([vocab_size]))"
      ]
    },
    {
      "cell_type": "code",
      "execution_count": 11,
      "metadata": {
        "id": "e6ROdkRZvBZB"
      },
      "outputs": [],
      "source": [
        "\n",
        "# TODO 6: Calculate the hidden representation of the word.\n",
        "# \"hidden representation\" means the value of the vector after the first layer\n",
        "# i.e. the vector within the latent space of the network\n",
        "# use tf.add and tf.matmul\n",
        "\n",
        "hidden_representation = tf.add(tf.matmul(x, W1), b1)"
      ]
    },
    {
      "cell_type": "code",
      "execution_count": 12,
      "metadata": {
        "id": "ay6mXqNivBZB"
      },
      "outputs": [],
      "source": [
        "\n",
        "# TODO 7: Compute the prediction, the output from the output layer.\n",
        "# hint: the prediction follows is the hidden representation passed through the second layer\n",
        "# don't forget to add the softmax to turn the outputs into a probability distribution\n",
        "# you may use tf.nn.softmax for that\n",
        "output_layer_input = tf.add(tf.matmul(hidden_representation, W2), b2)\n",
        "prediction = tf.nn.softmax(output_layer_input)"
      ]
    },
    {
      "cell_type": "code",
      "execution_count": 13,
      "metadata": {
        "id": "dt51ptaCvBZB"
      },
      "outputs": [],
      "source": [
        "sess = tf.Session()\n",
        "init = tf.global_variables_initializer()\n",
        "sess.run(init)"
      ]
    },
    {
      "cell_type": "markdown",
      "metadata": {
        "id": "D_3V3vrxvBZB"
      },
      "source": [
        "### ***What does the previous cell do ?***\n",
        "* ***Your** thoughts here*\n",
        "This code prepares the input placeholders for the neural network and computes the hidden representation of the word by linearly transforming the input x with the weight matrix W1 and the bias vector b1."
      ]
    },
    {
      "cell_type": "code",
      "execution_count": 14,
      "metadata": {
        "id": "fbO7czrSvBZC"
      },
      "outputs": [],
      "source": [
        "# Define the loss function:\n",
        "loss = tf.reduce_mean(-tf.reduce_sum(y_label * tf.log(prediction), reduction_indices=[1]))"
      ]
    },
    {
      "cell_type": "markdown",
      "metadata": {
        "id": "GAK9auYVvBZC"
      },
      "source": [
        "### ***Which loss function is this ?***\n",
        "* ***Your** thoughts here*<br>\n",
        "The loss function is the cross-entropy loss, specifically the categorical cross-entropy loss.\n",
        "\n",
        "### ***Why do we use it here ?***\n",
        "* ***Your** thoughts here*<br>\n",
        "Cross entropy loss is commonly used in classification tasks because it measures the difference between the predicted probability distribution and the true distribution (uniquely thermally encoded labels). Cross-entropy loss has favourable properties for gradient-based optimisation: it imposes heavier penalties when the predicted probabilities differ significantly from the true values. This encourages the model to adjust its parameters to improve the prediction, which is important for training accurate word embeddings."
      ]
    },
    {
      "cell_type": "code",
      "execution_count": 15,
      "metadata": {
        "id": "DFLrQQfpvBZC"
      },
      "outputs": [],
      "source": [
        "\n",
        "# Define the training step:\n",
        "# TODO 10: Use an optimizer to minimize the loss.\n",
        "# look through the documentation:\n",
        "# https://www.tensorflow.org/api_docs/python/tf/compat/v1/train/GradientDescentOptimizer\n",
        "# tf.compat.v1 is replaced with tf in our code\n",
        "\n",
        "learning_rate = 0.01\n",
        "train_step = tf.train.GradientDescentOptimizer(learning_rate).minimize(loss)"
      ]
    },
    {
      "cell_type": "code",
      "execution_count": 16,
      "metadata": {
        "id": "4lABxxyDvBZC"
      },
      "outputs": [],
      "source": [
        "\n",
        "n_iters = 10000\n",
        "\n",
        "for _ in range(n_iters):\n",
        "    sess.run(train_step, feed_dict={x: x_train, y_label: y_train})\n",
        "\n",
        "vectors = sess.run(W1 + b1)"
      ]
    },
    {
      "cell_type": "code",
      "execution_count": null,
      "metadata": {
        "id": "zGkw4BeyvBZD"
      },
      "outputs": [],
      "source": []
    },
    {
      "cell_type": "markdown",
      "metadata": {
        "id": "oBlg-A3UvBZD"
      },
      "source": [
        "### ***Reminder***\n",
        "\n",
        "Euclidian distance:\n",
        "$$ ||x-y||_2 = \\sqrt{ \\sum_{i=1}^{N} (x_i - y_i)^2 } $$"
      ]
    },
    {
      "cell_type": "code",
      "execution_count": 17,
      "metadata": {
        "id": "xwa0Iw4-vBZD"
      },
      "outputs": [],
      "source": [
        "# TODO 11 (last one!): implement the euclidian distance function using numpy\n",
        "def euclidean_dist(vec1, vec2):\n",
        "    return np.sqrt(np.sum((vec1 - vec2) ** 2))"
      ]
    },
    {
      "cell_type": "markdown",
      "metadata": {
        "id": "WPWDBH5lvBZD"
      },
      "source": [
        "### ***What is TSNE ? How is it useful here ?***\n",
        "* ***Your** thoughts here*<br>\n",
        "The t-SNE can downscale high-dimensional data to a lower dimensional space. In natural language processing, word embeddings are usually high-dimensional, and t-SNE can downscale them to two or three dimensions for visualisation and analysis\n"
      ]
    },
    {
      "cell_type": "code",
      "execution_count": 18,
      "metadata": {
        "colab": {
          "base_uri": "https://localhost:8080/"
        },
        "id": "_IxdSFnNvBZD",
        "outputId": "dd0417f0-c26c-4696-95e6-1003630c649d"
      },
      "outputs": [
        {
          "output_type": "stream",
          "name": "stdout",
          "text": [
            "[[ 0.8276927  -0.56118166]\n",
            " [-0.920084   -0.39172107]\n",
            " [-0.9541064   0.2994679 ]\n",
            " [ 0.807574   -0.5897664 ]\n",
            " [-0.99044746 -0.13789026]\n",
            " [-0.9973796   0.07234559]\n",
            " [-0.9654423  -0.26061684]\n",
            " [-0.99773425 -0.06727757]\n",
            " [-0.9966516   0.08176548]\n",
            " [-0.99238324 -0.12318914]\n",
            " [ 0.82616997 -0.56342095]\n",
            " [-0.90550464 -0.4243363 ]\n",
            " [-0.9890964  -0.1472699 ]\n",
            " [-0.97962356  0.20084254]\n",
            " [-0.9541648  -0.29928157]]\n"
          ]
        }
      ],
      "source": [
        "from sklearn.manifold import TSNE\n",
        "\n",
        "model = TSNE(n_components=2, perplexity=2, random_state=0)\n",
        "np.set_printoptions(suppress=True)\n",
        "vectors = model.fit_transform(vectors)\n",
        "\n",
        "from sklearn import preprocessing\n",
        "\n",
        "normalizer = preprocessing.Normalizer()\n",
        "vectors =  normalizer.fit_transform(vectors, 'l2')\n",
        "\n",
        "print(vectors)"
      ]
    },
    {
      "cell_type": "code",
      "execution_count": 19,
      "metadata": {
        "colab": {
          "base_uri": "https://localhost:8080/",
          "height": 702
        },
        "id": "f7s2Q6OSvBZE",
        "outputId": "ce9c4476-b345-4dd4-ff3a-204c018faed4"
      },
      "outputs": [
        {
          "output_type": "stream",
          "name": "stdout",
          "text": [
            "['he', 'is', 'the', 'king', '.', 'the', 'king', 'is', 'royal', '.', 'she', 'is', 'the', 'royal', 'queen']\n",
            "he -0.56118166\n",
            "is -0.39172107\n",
            "the 0.2994679\n",
            "king -0.5897664\n",
            ". -0.13789026\n",
            "the 0.2994679\n",
            "king -0.5897664\n",
            "is -0.39172107\n",
            "royal 0.08176548\n",
            ". -0.13789026\n",
            "she -0.56342095\n",
            "is -0.39172107\n",
            "the 0.2994679\n",
            "royal 0.08176548\n",
            "queen -0.29928157\n"
          ]
        },
        {
          "output_type": "display_data",
          "data": {
            "text/plain": [
              "<Figure size 640x480 with 1 Axes>"
            ],
            "image/png": "[encoded data removed]"
          },
          "metadata": {}
        }
      ],
      "source": [
        "import matplotlib.pyplot as plt\n",
        "\n",
        "fig, ax = plt.subplots()\n",
        "print(words)\n",
        "for word in words:\n",
        "    print(word, vectors[word2int[word]][1])\n",
        "    ax.annotate(word, (vectors[word2int[word]][0],vectors[word2int[word]][1] ))\n",
        "    ax.set_xlim(min([vectors[word2int[w]][0] for w in words])-1, max([vectors[word2int[w]][0] for w in words])+1)\n",
        "    ax.set_ylim(min([vectors[word2int[w]][1] for w in words])-1, max([vectors[word2int[w]][1] for w in words])+1)\n",
        "plt.show()"
      ]
    },
    {
      "cell_type": "markdown",
      "metadata": {
        "id": "lDsbK9bOvBZE"
      },
      "source": [
        "### ***You should see something similar:***\n",
        "<img src=\"word_2_vec_result.png\">"
      ]
    },
    {
      "cell_type": "markdown",
      "metadata": {
        "id": "_4vbqey5vBZE"
      },
      "source": [
        "### ***Comment on what you've understood from this course***\n",
        "For example:\n",
        "* What is word2vec ? <br>\n",
        "The goal of Word2Vec is to capture the semantic relationships between words by representing each word as a dense set of vectors of real numbers.\n",
        "* Why is it an improvement on BoW and TF-IDF <br>\n",
        "Word2Vec takes into account the context in which words appear, allowing subtle semantic relationships to be captured.BoW and TF-IDF treat all words as independent features.Word2Vec embeddings can be used to compute word similarity, which is not directly feasible in BoW or TF-IDF.\n",
        "* What is an encoder network, can you imagine an example to illustrate this notion ?<br>\n",
        "Let's consider an example of an image autoencoder:\n",
        "Input: a greyscale image (e.g., 28x28 pixels).\n",
        "Encoder network: the encoder network consists of a convolutional layer followed by a fully connected layer. It takes the image as input and learns to map it to low-dimensional vectors that are usually much smaller than the original image size (encoding).\n",
        "Decoder network: the decoder network accepts the encoding and reconstructs the original image from it. It contains layers for upsampling and convolution operations.\n",
        "Goal: During training, the goal of the autoencoder is to minimise the reconstruction error and ensure that the decoder output is as close as possible to the input image.<br>\n",
        "Encoder networks play a key role in compressing information from an input image into a compact representation, which is useful for tasks such as image denoising, dimensionality reduction or feature extraction."
      ]
    },
    {
      "cell_type": "code",
      "source": [],
      "metadata": {
        "id": "4p1cKq1_-bH7"
      },
      "execution_count": null,
      "outputs": []
    }
  ],
  "metadata": {
    "kernelspec": {
      "display_name": "Python 3",
      "language": "python",
      "name": "python3"
    },
    "language_info": {
      "codemirror_mode": {
        "name": "ipython",
        "version": 3
      },
      "file_extension": ".py",
      "mimetype": "text/x-python",
      "name": "python",
      "nbconvert_exporter": "python",
      "pygments_lexer": "ipython3",
      "version": "3.10.7"
    },
    "colab": {
      "provenance": []
    }
  },
  "nbformat": 4,
  "nbformat_minor": 0
}